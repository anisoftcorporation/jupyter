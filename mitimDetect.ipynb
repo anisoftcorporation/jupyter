{
 "cells": [
  {
   "cell_type": "code",
   "execution_count": 1,
   "metadata": {},
   "outputs": [
    {
     "name": "stdout",
     "output_type": "stream",
     "text": [
      "Requirement already satisfied: subprocess.run in /Users/abhattacharya/Library/Python/3.6/lib/python/site-packages (0.0.8)\n",
      "Note: you may need to restart the kernel to use updated packages.\n"
     ]
    }
   ],
   "source": [
    "pip install --trusted-host pypi.org --trusted-host files.pythonhosted.org subprocess.run --user"
   ]
  },
  {
   "cell_type": "code",
   "execution_count": 3,
   "metadata": {},
   "outputs": [
    {
     "name": "stdout",
     "output_type": "stream",
     "text": [
      "192.168.0.1        58:19:f8:f0:51:10\n",
      "224.0.0.251            1:0:5e:0:0:fb\n",
      "239.255.255.250      1:0:5e:7f:ff:fa\n",
      "dtype: object\n",
      "False\n",
      "192.168.0.1        58:19:f8:f0:51:10\n",
      "224.0.0.251            1:0:5e:0:0:fb\n",
      "239.255.255.250      1:0:5e:7f:ff:fa\n",
      "dtype: object\n",
      "False\n",
      "192.168.0.1        68:17:29:8:cf:28\n",
      "192.168.0.6        68:17:29:8:cf:28\n",
      "224.0.0.251           1:0:5e:0:0:fb\n",
      "239.255.255.250     1:0:5e:7f:ff:fa\n",
      "dtype: object\n",
      "True\n",
      "192.168.0.1        68:17:29:8:cf:28\n",
      "192.168.0.6        68:17:29:8:cf:28\n",
      "224.0.0.251           1:0:5e:0:0:fb\n",
      "239.255.255.250     1:0:5e:7f:ff:fa\n",
      "dtype: object\n",
      "True\n",
      "192.168.0.1        68:17:29:8:cf:28\n",
      "192.168.0.6        68:17:29:8:cf:28\n",
      "224.0.0.251           1:0:5e:0:0:fb\n",
      "239.255.255.250     1:0:5e:7f:ff:fa\n",
      "dtype: object\n",
      "True\n",
      "192.168.0.1        58:19:f8:f0:51:10\n",
      "192.168.0.6         68:17:29:8:cf:28\n",
      "224.0.0.251            1:0:5e:0:0:fb\n",
      "239.255.255.250      1:0:5e:7f:ff:fa\n",
      "dtype: object\n",
      "False\n",
      "192.168.0.1        68:17:29:8:cf:28\n",
      "192.168.0.6        68:17:29:8:cf:28\n",
      "224.0.0.251           1:0:5e:0:0:fb\n",
      "239.255.255.250     1:0:5e:7f:ff:fa\n",
      "dtype: object\n",
      "True\n",
      "192.168.0.1        68:17:29:8:cf:28\n",
      "192.168.0.6        68:17:29:8:cf:28\n",
      "224.0.0.251           1:0:5e:0:0:fb\n",
      "239.255.255.250     1:0:5e:7f:ff:fa\n",
      "dtype: object\n",
      "True\n"
     ]
    },
    {
     "ename": "KeyboardInterrupt",
     "evalue": "",
     "output_type": "error",
     "traceback": [
      "\u001b[0;31m---------------------------------------------------------------------------\u001b[0m",
      "\u001b[0;31mKeyboardInterrupt\u001b[0m                         Traceback (most recent call last)",
      "\u001b[0;32m<ipython-input-3-9a6d470ca3bf>\u001b[0m in \u001b[0;36m<module>\u001b[0;34m\u001b[0m\n\u001b[1;32m     24\u001b[0m \u001b[0;32mwhile\u001b[0m \u001b[0;32mTrue\u001b[0m\u001b[0;34m:\u001b[0m\u001b[0;34m\u001b[0m\u001b[0m\n\u001b[1;32m     25\u001b[0m     \u001b[0mMITMCheck\u001b[0m\u001b[0;34m(\u001b[0m\u001b[0;34m)\u001b[0m\u001b[0;34m\u001b[0m\u001b[0m\n\u001b[0;32m---> 26\u001b[0;31m     \u001b[0mtime\u001b[0m\u001b[0;34m.\u001b[0m\u001b[0msleep\u001b[0m\u001b[0;34m(\u001b[0m\u001b[0;36m2\u001b[0m\u001b[0;34m)\u001b[0m\u001b[0;34m\u001b[0m\u001b[0m\n\u001b[0m",
      "\u001b[0;31mKeyboardInterrupt\u001b[0m: "
     ]
    }
   ],
   "source": [
    "import subprocess\n",
    "import re\n",
    "import pandas as pd\n",
    "import time\n",
    "def clear(): \n",
    "    # check and make call for specific operating system \n",
    "    _ = subprocess.call('clear') \n",
    "def MITMCheck():\n",
    " sr = pd.Series();\n",
    " result = subprocess.run(['arp', '-a'], stdout=subprocess.PIPE)\n",
    " data = result.stdout\n",
    " for line in data.splitlines():\n",
    "   \n",
    "    mo = re.search(r'\\((.*)\\)', line.decode('utf-8'))\n",
    "    if mo:\n",
    "     ip = mo.group(1)\n",
    "    macs = re.findall('([a-z]*[0-9]*:[a-z]*[0-9]*)', line.decode('utf-8'))\n",
    "    mac = ''.join(macs)\n",
    "    sr.at[ip]=mac\n",
    " print(sr)\n",
    " check = any(sr.duplicated(keep=False))\n",
    " print(check)\n",
    "clear()\n",
    "while True:\n",
    "    MITMCheck()\n",
    "    time.sleep(2)"
   ]
  },
  {
   "cell_type": "code",
   "execution_count": null,
   "metadata": {},
   "outputs": [],
   "source": []
  }
 ],
 "metadata": {
  "kernelspec": {
   "display_name": "Python 3",
   "language": "python",
   "name": "python3"
  },
  "language_info": {
   "codemirror_mode": {
    "name": "ipython",
    "version": 3
   },
   "file_extension": ".py",
   "mimetype": "text/x-python",
   "name": "python",
   "nbconvert_exporter": "python",
   "pygments_lexer": "ipython3",
   "version": "3.6.0"
  }
 },
 "nbformat": 4,
 "nbformat_minor": 4
}
